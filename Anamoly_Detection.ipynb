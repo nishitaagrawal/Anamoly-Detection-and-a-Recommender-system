{
  "nbformat": 4,
  "nbformat_minor": 0,
  "metadata": {
    "kernelspec": {
      "display_name": "Python 3",
      "language": "python",
      "name": "python3"
    },
    "language_info": {
      "codemirror_mode": {
        "name": "ipython",
        "version": 3
      },
      "file_extension": ".py",
      "mimetype": "text/x-python",
      "name": "python",
      "nbconvert_exporter": "python",
      "pygments_lexer": "ipython3",
      "version": "3.7.3"
    },
    "colab": {
      "name": "Anamoly Detection",
      "provenance": [],
      "collapsed_sections": []
    }
  },
  "cells": [
    {
      "cell_type": "markdown",
      "metadata": {
        "id": "R-Q3bRPG-geQ"
      },
      "source": [
        "#**MODEL-1**"
      ]
    },
    {
      "cell_type": "code",
      "metadata": {
        "id": "Tl9_XCrc0eWb"
      },
      "source": [
        "import pandas as pd\n",
        "import matplotlib.pyplot as plt\n",
        "import numpy as np"
      ],
      "execution_count": null,
      "outputs": []
    },
    {
      "cell_type": "code",
      "metadata": {
        "id": "4W9jUbj40zNY",
        "outputId": "fea95749-3646-45a9-bb68-a5b916614a51",
        "colab": {
          "resources": {
            "http://localhost:8080/nbextensions/google.colab/files.js": {
              "data": "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",
              "ok": true,
              "headers": [
                [
                  "content-type",
                  "application/javascript"
                ]
              ],
              "status": 200,
              "status_text": ""
            }
          },
          "base_uri": "https://localhost:8080/",
          "height": 73
        }
      },
      "source": [
        "from google.colab import files\n",
        "uploaded=files.upload()"
      ],
      "execution_count": null,
      "outputs": [
        {
          "output_type": "display_data",
          "data": {
            "text/html": [
              "\n",
              "     <input type=\"file\" id=\"files-f9f379c2-0453-4a9c-b970-a6d5a7cd6871\" name=\"files[]\" multiple disabled\n",
              "        style=\"border:none\" />\n",
              "     <output id=\"result-f9f379c2-0453-4a9c-b970-a6d5a7cd6871\">\n",
              "      Upload widget is only available when the cell has been executed in the\n",
              "      current browser session. Please rerun this cell to enable.\n",
              "      </output>\n",
              "      <script src=\"/nbextensions/google.colab/files.js\"></script> "
            ],
            "text/plain": [
              "<IPython.core.display.HTML object>"
            ]
          },
          "metadata": {
            "tags": []
          }
        },
        {
          "output_type": "stream",
          "text": [
            "Saving ex8data1.mat to ex8data1.mat\n"
          ],
          "name": "stdout"
        }
      ]
    },
    {
      "cell_type": "code",
      "metadata": {
        "id": "booCQpDQKGza"
      },
      "source": [
        "from scipy.io import loadmat\n",
        "data=loadmat(\"ex8data1.mat\")"
      ],
      "execution_count": null,
      "outputs": []
    },
    {
      "cell_type": "code",
      "metadata": {
        "id": "R-4af5sbKaN2"
      },
      "source": [
        "x=data['X']"
      ],
      "execution_count": null,
      "outputs": []
    },
    {
      "cell_type": "code",
      "metadata": {
        "id": "0VTJ2EyHKhv0",
        "outputId": "ea4e9c7b-d938-451e-dc12-aa7fd4708eda",
        "colab": {
          "base_uri": "https://localhost:8080/",
          "height": 283
        }
      },
      "source": [
        "plt.scatter(x[:,0],x[:,1])"
      ],
      "execution_count": null,
      "outputs": [
        {
          "output_type": "execute_result",
          "data": {
            "text/plain": [
              "<matplotlib.collections.PathCollection at 0x7f7ded641cc0>"
            ]
          },
          "metadata": {
            "tags": []
          },
          "execution_count": 5
        },
        {
          "output_type": "display_data",
          "data": {
            "image/png": "[encoded data removed]",
            "text/plain": [
              "<Figure size 432x288 with 1 Axes>"
            ]
          },
          "metadata": {
            "tags": [],
            "needs_background": "light"
          }
        }
      ]
    },
    {
      "cell_type": "code",
      "metadata": {
        "id": "tQ4wBRETtb7Q",
        "outputId": "c03cc72c-57ab-4b5b-c8a1-5a6791756a85",
        "colab": {
          "base_uri": "https://localhost:8080/",
          "height": 366
        }
      },
      "source": [
        "plt.hist(x)"
      ],
      "execution_count": null,
      "outputs": [
        {
          "output_type": "execute_result",
          "data": {
            "text/plain": [
              "(array([[  1.,   0.,   0.,   9., 170., 122.,   2.,   1.,   1.,   1.],\n",
              "        [  1.,   0.,   1.,   2.,  53., 219.,  30.,   0.,   0.,   1.]]),\n",
              " array([ 4.12623222,  6.14864973,  8.17106723, 10.19348473, 12.21590223,\n",
              "        14.23831974, 16.26073724, 18.28315474, 20.30557224, 22.32798975,\n",
              "        24.35040725]),\n",
              " <a list of 2 Lists of Patches objects>)"
            ]
          },
          "metadata": {
            "tags": []
          },
          "execution_count": 16
        },
        {
          "output_type": "display_data",
          "data": {
            "image/png": "[encoded data removed]",
            "text/plain": [
              "<Figure size 432x288 with 1 Axes>"
            ]
          },
          "metadata": {
            "tags": [],
            "needs_background": "light"
          }
        }
      ]
    },
    {
      "cell_type": "code",
      "metadata": {
        "id": "u-OUU88J_7fs"
      },
      "source": [
        "from sklearn.model_selection import train_test_split\n",
        "x_train,x_test=train_test_split(x,random_state=1)"
      ],
      "execution_count": null,
      "outputs": []
    },
    {
      "cell_type": "markdown",
      "metadata": {
        "id": "7M0VG78T-qWS"
      },
      "source": [
        "**METHOD-1**\n",
        "\n",
        "Using Elliptic envelope method for detecting outliers in a Gaussian distributed dataset. This method is robust to other outliers."
      ]
    },
    {
      "cell_type": "code",
      "metadata": {
        "id": "-5JRyd0yKvsJ"
      },
      "source": [
        "from sklearn.covariance import EllipticEnvelope\n",
        "ee=EllipticEnvelope(random_state=0).fit(x_train)"
      ],
      "execution_count": null,
      "outputs": []
    },
    {
      "cell_type": "code",
      "metadata": {
        "id": "wGs3vyufLugA"
      },
      "source": [
        "pred=ee.predict(x_test)"
      ],
      "execution_count": null,
      "outputs": []
    },
    {
      "cell_type": "code",
      "metadata": {
        "id": "7kMc8w77_diI",
        "outputId": "48aec539-50bf-4136-b395-f6e7d98d4e27",
        "colab": {
          "base_uri": "https://localhost:8080/",
          "height": 34
        }
      },
      "source": [
        "ee.score(x_test,pred)"
      ],
      "execution_count": null,
      "outputs": [
        {
          "output_type": "execute_result",
          "data": {
            "text/plain": [
              "1.0"
            ]
          },
          "metadata": {
            "tags": []
          },
          "execution_count": 14
        }
      ]
    },
    {
      "cell_type": "markdown",
      "metadata": {
        "id": "cNUpfcYO_y5s"
      },
      "source": [
        "This shows accuracy is 100%"
      ]
    },
    {
      "cell_type": "code",
      "metadata": {
        "id": "p-OpZqq_LzaI",
        "outputId": "a60f7519-e383-40e8-b4c3-ab7a03a29b13",
        "colab": {
          "base_uri": "https://localhost:8080/",
          "height": 282
        }
      },
      "source": [
        "plt.scatter(x_test[pred==1,0],x_test[pred==1,1],color='blue')\n",
        "plt.scatter(x_test[pred==-1,0],x_test[pred==-1,1],color='red',marker='x')"
      ],
      "execution_count": null,
      "outputs": [
        {
          "output_type": "execute_result",
          "data": {
            "text/plain": [
              "<matplotlib.collections.PathCollection at 0x7f482eece438>"
            ]
          },
          "metadata": {
            "tags": []
          },
          "execution_count": 15
        },
        {
          "output_type": "display_data",
          "data": {
            "image/png": "[encoded data removed]",
            "text/plain": [
              "<Figure size 432x288 with 1 Axes>"
            ]
          },
          "metadata": {
            "tags": [],
            "needs_background": "light"
          }
        }
      ]
    },
    {
      "cell_type": "markdown",
      "metadata": {
        "id": "__8D2UE3AyBi"
      },
      "source": [
        "**METHOD-2**\n",
        "\n",
        "One efficient way of performing outlier detection in high-dimensional datasets is to use random forests. Isolation forest detects anomalies by randomly partitioning the domain space."
      ]
    },
    {
      "cell_type": "code",
      "metadata": {
        "id": "eBq52QuC8oFL"
      },
      "source": [
        "from sklearn.ensemble import IsolationForest\n",
        "isf=IsolationForest(n_estimators=100,contamination=float(0.1)).fit(x_train)\n",
        "pred=isf.predict(x_test)"
      ],
      "execution_count": null,
      "outputs": []
    },
    {
      "cell_type": "code",
      "metadata": {
        "id": "-J4UDlqf8yok",
        "outputId": "9edecafe-ca5e-4c8a-9fe1-d92f49ab5bbc",
        "colab": {
          "base_uri": "https://localhost:8080/",
          "height": 282
        }
      },
      "source": [
        "plt.scatter(x_test[pred==1,0],x_test[pred==1,1],color='blue')\n",
        "plt.scatter(x_test[pred==-1,0],x_test[pred==-1,1],color='red',marker='x')"
      ],
      "execution_count": null,
      "outputs": [
        {
          "output_type": "execute_result",
          "data": {
            "text/plain": [
              "<matplotlib.collections.PathCollection at 0x7f482cd7ff28>"
            ]
          },
          "metadata": {
            "tags": []
          },
          "execution_count": 43
        },
        {
          "output_type": "display_data",
          "data": {
            "image/png": "[encoded data removed]",
            "text/plain": [
              "<Figure size 432x288 with 1 Axes>"
            ]
          },
          "metadata": {
            "tags": [],
            "needs_background": "light"
          }
        }
      ]
    },
    {
      "cell_type": "code",
      "metadata": {
        "id": "nCSSwlz8tesQ",
        "outputId": "b8a21051-749e-4d2a-ff5d-a8b6ae20d38d",
        "colab": {
          "base_uri": "https://localhost:8080/",
          "height": 286
        }
      },
      "source": [
        "isf.decision_function(x_test)"
      ],
      "execution_count": null,
      "outputs": [
        {
          "output_type": "execute_result",
          "data": {
            "text/plain": [
              "array([ 0.11685946,  0.10010279,  0.11903112, -0.24174682,  0.08483252,\n",
              "        0.0711791 ,  0.08690887,  0.1077754 ,  0.04320087,  0.0287689 ,\n",
              "       -0.18225098,  0.1144987 ,  0.09573734,  0.10647597,  0.07987484,\n",
              "        0.08671741,  0.09276063,  0.11900507,  0.11202528,  0.08360943,\n",
              "        0.08423148,  0.12766338,  0.11882684,  0.11993375, -0.15344552,\n",
              "        0.11961693,  0.06937286,  0.11953681,  0.00171265,  0.09221402,\n",
              "        0.10575843,  0.09997845,  0.00965924,  0.0942526 ,  0.10178014,\n",
              "        0.11298324, -0.23753693,  0.02077677,  0.0596616 ,  0.11368772,\n",
              "       -0.01341477,  0.08858044,  0.1110829 ,  0.11211853,  0.10767302,\n",
              "        0.11624749,  0.03941988,  0.10471099,  0.09978667, -0.26877167,\n",
              "        0.1006561 ,  0.04216114,  0.11131886,  0.07140458,  0.12027995,\n",
              "        0.12798591,  0.09362361,  0.03707346,  0.1141151 , -0.0368314 ,\n",
              "        0.01586933,  0.07303157,  0.0115363 ,  0.08119956,  0.11826062,\n",
              "        0.1086281 ,  0.1239851 ,  0.00657184,  0.12055402,  0.10959632,\n",
              "        0.11844971,  0.11467592,  0.06817806,  0.0448872 ,  0.02563301,\n",
              "        0.1223135 ,  0.10626458])"
            ]
          },
          "metadata": {
            "tags": []
          },
          "execution_count": 44
        }
      ]
    },
    {
      "cell_type": "markdown",
      "metadata": {
        "id": "TaZdzt0qrt02"
      },
      "source": [
        "**METHOD-3**\n",
        "\n",
        "Local outlier factor is a density-based method that relies on nearest neighbors search.  it only compares the score of abnormality of one sample with the scores of its neighbors."
      ]
    },
    {
      "cell_type": "code",
      "metadata": {
        "id": "IHhbRgfmra9y"
      },
      "source": [
        "from sklearn.neighbors import LocalOutlierFactor\n",
        "lof=LocalOutlierFactor(novelty=True,metric='manhattan')"
      ],
      "execution_count": null,
      "outputs": []
    },
    {
      "cell_type": "code",
      "metadata": {
        "id": "G1To_ZKQrbFY",
        "outputId": "31de5fb8-d583-4755-df96-0a6c4854b0f9",
        "colab": {
          "base_uri": "https://localhost:8080/",
          "height": 67
        }
      },
      "source": [
        "lof.fit(x_train)"
      ],
      "execution_count": null,
      "outputs": [
        {
          "output_type": "execute_result",
          "data": {
            "text/plain": [
              "LocalOutlierFactor(algorithm='auto', contamination='auto', leaf_size=30,\n",
              "                   metric='manhattan', metric_params=None, n_jobs=None,\n",
              "                   n_neighbors=20, novelty=True, p=2)"
            ]
          },
          "metadata": {
            "tags": []
          },
          "execution_count": 62
        }
      ]
    },
    {
      "cell_type": "code",
      "metadata": {
        "id": "b7N1YnR2rbHG"
      },
      "source": [
        "pred=lof.predict(x_test)"
      ],
      "execution_count": null,
      "outputs": []
    },
    {
      "cell_type": "code",
      "metadata": {
        "id": "kvbkNQFU24HM"
      },
      "source": [
        "scores=lof.negative_outlier_factor_"
      ],
      "execution_count": null,
      "outputs": []
    },
    {
      "cell_type": "code",
      "metadata": {
        "id": "ghaQ5aGP3e4v",
        "outputId": "06af2a5b-8806-4156-e42f-809f69be62b3",
        "colab": {
          "base_uri": "https://localhost:8080/",
          "height": 672
        }
      },
      "source": [
        "print(-scores)"
      ],
      "execution_count": null,
      "outputs": [
        {
          "output_type": "stream",
          "text": [
            "[ 0.95390853  0.9997076   1.14659208  1.00710907  1.00074292  1.08827318\n",
            "  1.08020964  1.19059126  1.00922604  0.99333903  1.01193821  1.02280614\n",
            "  0.99231336  1.24355976  0.97886753  1.09412679  0.9682689   4.29948242\n",
            "  0.99539845  1.12716961  1.00623394  1.01595566  1.71480261  1.23274278\n",
            "  0.99990006  1.02090934  0.97154526  0.99742072  1.00351184  0.98852385\n",
            "  1.28503018  1.09630763  1.05611985  0.99029814  1.01885315  1.02367641\n",
            "  1.01046398  0.9844358   1.16562847  1.00336631  0.96429086  1.0805115\n",
            "  1.14946737  0.95809144  1.01886556  1.02829685  0.98201842  1.02627051\n",
            "  0.98981646  1.00133974  1.0039973   1.22188724  0.99600923  1.01445144\n",
            "  1.0532715   1.09233177  1.14956321  1.02410523  1.0308382   1.2115157\n",
            "  1.04216832  1.2645696   1.27699935  1.16143194  1.17278531  1.24850768\n",
            "  0.99337325  1.03537719  1.08618654  1.39483917  1.04349538  0.97749031\n",
            "  1.12043252  1.81638956  0.9753617   0.9696846   0.96185956  1.92122896\n",
            "  1.18146392  1.00327782  1.00362825  1.11554082  1.18419267  1.00395542\n",
            "  1.14314174  1.68105136  0.98000532  0.98641911  1.02683222  1.00497423\n",
            "  0.99100471  0.97586132  1.9571543   1.01911343  0.96834285  0.97487158\n",
            "  1.02671012  2.44140922  1.61409557 17.26400261  1.06143403  1.00004013\n",
            "  1.04388329  0.95705102  1.030145    1.01360542  1.32772397  0.97308109\n",
            "  1.07547119  1.00531157  1.01742599  1.01277843  1.19550307  0.9999291\n",
            "  1.10601097  1.03510252  0.99707054  1.05935623  1.10945651  1.02464887\n",
            "  1.00601     0.98396276  0.99496022  0.98490606  1.19171136  1.21344782\n",
            "  1.04209502  1.13240431  1.02311839  1.03351658  0.98320889  0.98917042\n",
            "  1.06671892  1.00860599  0.96831077  1.21840965  1.50260657  1.01828832\n",
            "  0.96017647  1.04187207  0.9735819   1.29203106  1.09876076  1.02630896\n",
            "  1.22988501  0.96590171  0.99979436  1.03777666  1.0151328   1.01545868\n",
            "  1.2221806   0.95565885  1.04420352  0.96972847  1.10659698  0.97733243\n",
            "  0.9821803   1.54648299  1.03106704  1.1003156   1.04395354  1.65641978\n",
            "  1.01019557  1.48626105  1.16450997  1.0002561   0.97140203  1.05165983\n",
            "  1.65388761  1.00707382  1.08014996  1.40305508  1.20140629  0.98475305\n",
            "  1.3281073   1.17362507  1.08757079  1.01673787  1.01044918  0.97645147\n",
            "  1.107059    1.02279369  1.08947683  0.99567283  1.01053442  0.9871574\n",
            "  1.81858757  1.05643773  1.06401715  1.2729545   1.00599478  2.30647601\n",
            "  1.02727204  0.99978531  0.98633019  1.01940361  0.98585227  1.02093578\n",
            "  1.22413246  1.00919746  1.41984269  0.96270621  1.04824563  1.02208689\n",
            "  1.0514735   1.12238886  1.07524333  0.97532902  0.98504545  1.00494639\n",
            "  1.67434557  1.01232988  1.06631483  1.03244506  0.98424563  1.17150174\n",
            "  1.01183697  1.16466399  0.96764884  1.17204676  0.95517113  1.35484365\n",
            "  0.98421902  1.02830124  1.02165133  0.95256605  0.96192421  1.01358799\n",
            "  1.04748603  1.00581547]\n"
          ],
          "name": "stdout"
        }
      ]
    },
    {
      "cell_type": "code",
      "metadata": {
        "id": "_qrZA_n340TU",
        "outputId": "0869565a-321b-47ca-af40-5dfb91f897cc",
        "colab": {
          "base_uri": "https://localhost:8080/",
          "height": 34
        }
      },
      "source": [
        "print(np.mean(-scores))"
      ],
      "execution_count": null,
      "outputs": [
        {
          "output_type": "stream",
          "text": [
            "1.1885334063046018\n"
          ],
          "name": "stdout"
        }
      ]
    },
    {
      "cell_type": "markdown",
      "metadata": {
        "id": "-Umh8ID95BwZ"
      },
      "source": [
        "This shows model performs quiet good."
      ]
    },
    {
      "cell_type": "code",
      "metadata": {
        "id": "eB-I0XyArbK_",
        "outputId": "b24de1a2-f6e6-4c97-b018-c3733f7570b8",
        "colab": {
          "base_uri": "https://localhost:8080/",
          "height": 282
        }
      },
      "source": [
        "plt.scatter(x_test[pred==1,0],x_test[pred==1,1],color='blue')\n",
        "plt.scatter(x_test[pred==-1,0],x_test[pred==-1,1],color='red',marker='x')"
      ],
      "execution_count": null,
      "outputs": [
        {
          "output_type": "execute_result",
          "data": {
            "text/plain": [
              "<matplotlib.collections.PathCollection at 0x7f482cdcc9b0>"
            ]
          },
          "metadata": {
            "tags": []
          },
          "execution_count": 68
        },
        {
          "output_type": "display_data",
          "data": {
            "image/png": "[encoded data removed]",
            "text/plain": [
              "<Figure size 432x288 with 1 Axes>"
            ]
          },
          "metadata": {
            "tags": [],
            "needs_background": "light"
          }
        }
      ]
    },
    {
      "cell_type": "markdown",
      "metadata": {
        "id": "T8enxW2zr0kD"
      },
      "source": [
        "**METHOD-4**\n",
        "\n",
        "Unsupervised Outlier Detection.\n",
        "Estimate the support of a high-dimensional distribution.\n",
        "The implementation is based on libsvm.\n",
        "The svm.OneClassSVM is known to be sensitive to outliers and thus does not perform very well for outlier detection. It soverfits the data. It is best used for novelty detection."
      ]
    },
    {
      "cell_type": "code",
      "metadata": {
        "id": "Iles22vJrzrQ"
      },
      "source": [
        "from sklearn.svm import OneClassSVM\n",
        "svm=OneClassSVM(gamma='scale').fit(x_train)"
      ],
      "execution_count": null,
      "outputs": []
    },
    {
      "cell_type": "code",
      "metadata": {
        "id": "KYFjGlSwrzs2"
      },
      "source": [
        "pred=svm.predict(x_test)"
      ],
      "execution_count": null,
      "outputs": []
    },
    {
      "cell_type": "code",
      "metadata": {
        "id": "Sq1uZx336fke",
        "outputId": "c2737551-698f-4098-904f-321c141c3dd3",
        "colab": {
          "base_uri": "https://localhost:8080/",
          "height": 353
        }
      },
      "source": [
        "svm.score_samples(x_test)"
      ],
      "execution_count": null,
      "outputs": [
        {
          "output_type": "execute_result",
          "data": {
            "text/plain": [
              "array([4.60516168e+01, 4.66732397e+01, 4.68003745e+01, 0.00000000e+00,\n",
              "       4.27577545e+01, 4.31320792e+01, 4.63207271e+01, 4.67231730e+01,\n",
              "       3.64292516e+01, 3.74141159e+01, 5.88619173e-07, 4.56520865e+01,\n",
              "       4.37933496e+01, 4.53183141e+01, 4.17633360e+01, 4.39055046e+01,\n",
              "       4.45533994e+01, 4.72864388e+01, 4.73096054e+01, 4.60979161e+01,\n",
              "       4.20122589e+01, 4.72737717e+01, 4.68138658e+01, 4.65234520e+01,\n",
              "       1.14806399e+01, 4.64870090e+01, 4.17159238e+01, 4.78432816e+01,\n",
              "       3.45670275e+01, 4.26922444e+01, 4.54659284e+01, 4.65716209e+01,\n",
              "       3.14774346e+01, 4.68674507e+01, 4.23971341e+01, 4.64860712e+01,\n",
              "       1.10267308e+00, 3.61076002e+01, 3.73116580e+01, 4.63644090e+01,\n",
              "       2.84902537e+01, 4.45724923e+01, 4.73748619e+01, 4.68940756e+01,\n",
              "       4.76591873e+01, 4.70095022e+01, 3.33288367e+01, 4.53760344e+01,\n",
              "       4.46582780e+01, 3.42481615e-04, 4.54314576e+01, 3.58534512e+01,\n",
              "       4.75621452e+01, 3.83746452e+01, 4.48194141e+01, 4.76989075e+01,\n",
              "       4.26560799e+01, 3.64607358e+01, 4.31118058e+01, 2.32803704e+01,\n",
              "       3.49982462e+01, 3.95766366e+01, 3.17323452e+01, 4.10975447e+01,\n",
              "       4.59366823e+01, 4.56200187e+01, 4.71683112e+01, 3.40175168e+01,\n",
              "       4.76376177e+01, 4.74230477e+01, 4.75618909e+01, 4.73318021e+01,\n",
              "       4.25923526e+01, 3.49531904e+01, 3.31266798e+01, 4.78234944e+01,\n",
              "       4.75068235e+01])"
            ]
          },
          "metadata": {
            "tags": []
          },
          "execution_count": 74
        }
      ]
    },
    {
      "cell_type": "code",
      "metadata": {
        "id": "aJL1eXjjrzxE",
        "outputId": "ac328464-0537-47a5-9557-43eed1c69d02",
        "colab": {
          "base_uri": "https://localhost:8080/",
          "height": 282
        }
      },
      "source": [
        "plt.scatter(x_test[pred==1,0],x_test[pred==1,1],color='blue')\n",
        "plt.scatter(x_test[pred==-1,0],x_test[pred==-1,1],color='red',marker='x')"
      ],
      "execution_count": null,
      "outputs": [
        {
          "output_type": "execute_result",
          "data": {
            "text/plain": [
              "<matplotlib.collections.PathCollection at 0x7f482cd10dd8>"
            ]
          },
          "metadata": {
            "tags": []
          },
          "execution_count": 75
        },
        {
          "output_type": "display_data",
          "data": {
            "image/png": "[encoded data removed]",
            "text/plain": [
              "<Figure size 432x288 with 1 Axes>"
            ]
          },
          "metadata": {
            "tags": [],
            "needs_background": "light"
          }
        }
      ]
    },
    {
      "cell_type": "markdown",
      "metadata": {
        "id": "xRHjr7wu87po"
      },
      "source": [
        "#**MODEL 2**"
      ]
    },
    {
      "cell_type": "code",
      "metadata": {
        "id": "8gPNCdOxNLB-",
        "outputId": "c8ec9f22-3911-44ed-d394-7a18bfe5a2f0",
        "colab": {
          "resources": {
            "http://localhost:8080/nbextensions/google.colab/files.js": {
              "data": "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",
              "ok": true,
              "headers": [
                [
                  "content-type",
                  "application/javascript"
                ]
              ],
              "status": 200,
              "status_text": ""
            }
          },
          "base_uri": "https://localhost:8080/",
          "height": 73
        }
      },
      "source": [
        "from google.colab import files\n",
        "upload=files.upload()"
      ],
      "execution_count": null,
      "outputs": [
        {
          "output_type": "display_data",
          "data": {
            "text/html": [
              "\n",
              "     <input type=\"file\" id=\"files-148b2571-088f-44a3-b4dd-7d66668693dd\" name=\"files[]\" multiple disabled\n",
              "        style=\"border:none\" />\n",
              "     <output id=\"result-148b2571-088f-44a3-b4dd-7d66668693dd\">\n",
              "      Upload widget is only available when the cell has been executed in the\n",
              "      current browser session. Please rerun this cell to enable.\n",
              "      </output>\n",
              "      <script src=\"/nbextensions/google.colab/files.js\"></script> "
            ],
            "text/plain": [
              "<IPython.core.display.HTML object>"
            ]
          },
          "metadata": {
            "tags": []
          }
        },
        {
          "output_type": "stream",
          "text": [
            "Saving ex8data2.mat to ex8data2 (1).mat\n"
          ],
          "name": "stdout"
        }
      ]
    },
    {
      "cell_type": "code",
      "metadata": {
        "id": "aRkS_EV9Oy9M"
      },
      "source": [
        "data2=loadmat('ex8data2.mat')"
      ],
      "execution_count": null,
      "outputs": []
    },
    {
      "cell_type": "code",
      "metadata": {
        "id": "FZGJut_pO8BK"
      },
      "source": [
        "x1=data2['X']"
      ],
      "execution_count": null,
      "outputs": []
    },
    {
      "cell_type": "code",
      "metadata": {
        "id": "p6KxxHKM7cL6"
      },
      "source": [
        "from sklearn.model_selection import train_test_split\n",
        "x_train,x_test=train_test_split(x1,random_state=1)"
      ],
      "execution_count": null,
      "outputs": []
    },
    {
      "cell_type": "code",
      "metadata": {
        "id": "ZSxS1CJyO--2",
        "outputId": "1ebe0e52-9314-4775-d778-b6baeae19be9",
        "colab": {
          "base_uri": "https://localhost:8080/",
          "height": 282
        }
      },
      "source": [
        "plt.scatter(x1[:,0],x1[:,1])"
      ],
      "execution_count": null,
      "outputs": [
        {
          "output_type": "execute_result",
          "data": {
            "text/plain": [
              "<matplotlib.collections.PathCollection at 0x7f482c90ca90>"
            ]
          },
          "metadata": {
            "tags": []
          },
          "execution_count": 107
        },
        {
          "output_type": "display_data",
          "data": {
            "image/png": "[encoded data removed]",
            "text/plain": [
              "<Figure size 432x288 with 1 Axes>"
            ]
          },
          "metadata": {
            "tags": [],
            "needs_background": "light"
          }
        }
      ]
    },
    {
      "cell_type": "markdown",
      "metadata": {
        "id": "sbmCYgnSQwa8"
      },
      "source": [
        "**METHOD-1**"
      ]
    },
    {
      "cell_type": "code",
      "metadata": {
        "id": "DeSDqdjnPG3E"
      },
      "source": [
        "from sklearn.covariance import EllipticEnvelope\n",
        "eee=EllipticEnvelope(random_state=0).fit(x_train)"
      ],
      "execution_count": null,
      "outputs": []
    },
    {
      "cell_type": "code",
      "metadata": {
        "id": "5coK50GgPhIa"
      },
      "source": [
        "pred=eee.predict(x_test)"
      ],
      "execution_count": null,
      "outputs": []
    },
    {
      "cell_type": "code",
      "metadata": {
        "id": "GJPZrIDpPtY7",
        "outputId": "215306be-d05e-4fe7-abd1-a67718eafd65",
        "colab": {
          "base_uri": "https://localhost:8080/",
          "height": 282
        }
      },
      "source": [
        "plt.scatter(x_test[pred==1,0],x_test[pred==1,1],color='blue')\n",
        "plt.scatter(x_test[pred==-1,0],x_test[pred==-1,1],color='red')"
      ],
      "execution_count": null,
      "outputs": [
        {
          "output_type": "execute_result",
          "data": {
            "text/plain": [
              "<matplotlib.collections.PathCollection at 0x7f482c86c550>"
            ]
          },
          "metadata": {
            "tags": []
          },
          "execution_count": 111
        },
        {
          "output_type": "display_data",
          "data": {
            "image/png": "[encoded data removed]",
            "text/plain": [
              "<Figure size 432x288 with 1 Axes>"
            ]
          },
          "metadata": {
            "tags": [],
            "needs_background": "light"
          }
        }
      ]
    },
    {
      "cell_type": "code",
      "metadata": {
        "id": "nGW5KC8zQ77i",
        "outputId": "89d80f28-dccf-46e5-b684-7522f13e052e",
        "colab": {
          "base_uri": "https://localhost:8080/",
          "height": 34
        }
      },
      "source": [
        "eee.score(x_test,pred)"
      ],
      "execution_count": null,
      "outputs": [
        {
          "output_type": "execute_result",
          "data": {
            "text/plain": [
              "1.0"
            ]
          },
          "metadata": {
            "tags": []
          },
          "execution_count": 114
        }
      ]
    },
    {
      "cell_type": "markdown",
      "metadata": {
        "id": "PandkLDTRI3x"
      },
      "source": [
        "**METHOD-2**"
      ]
    },
    {
      "cell_type": "code",
      "metadata": {
        "id": "y5XucuvfP-A_"
      },
      "source": [
        "from sklearn.ensemble import IsolationForest\n",
        "isf=IsolationForest(n_estimators=100).fit(x_train)"
      ],
      "execution_count": null,
      "outputs": []
    },
    {
      "cell_type": "code",
      "metadata": {
        "id": "yszYscQXQ6ok"
      },
      "source": [
        "pred=isf.predict(x_test)"
      ],
      "execution_count": null,
      "outputs": []
    },
    {
      "cell_type": "code",
      "metadata": {
        "id": "QcKTXhraRBAu",
        "outputId": "aaab7742-9936-4bd3-cf7e-2571d90993ea",
        "colab": {
          "base_uri": "https://localhost:8080/",
          "height": 282
        }
      },
      "source": [
        "plt.scatter(x_test[pred==1,0],x_test[pred==1,1],color='blue')\n",
        "plt.scatter(x_test[pred==-1,0],x_test[pred==-1,1],color='red')"
      ],
      "execution_count": null,
      "outputs": [
        {
          "output_type": "execute_result",
          "data": {
            "text/plain": [
              "<matplotlib.collections.PathCollection at 0x7f482c7270f0>"
            ]
          },
          "metadata": {
            "tags": []
          },
          "execution_count": 117
        },
        {
          "output_type": "display_data",
          "data": {
            "image/png": "[encoded data removed]",
            "text/plain": [
              "<Figure size 432x288 with 1 Axes>"
            ]
          },
          "metadata": {
            "tags": [],
            "needs_background": "light"
          }
        }
      ]
    },
    {
      "cell_type": "code",
      "metadata": {
        "id": "XaTFRPrbRW28",
        "outputId": "d9d267cd-e1ee-4eb4-a270-ea2f0a8ff63d",
        "colab": {
          "base_uri": "https://localhost:8080/",
          "height": 857
        }
      },
      "source": [
        "isf.decision_function(x_test)"
      ],
      "execution_count": null,
      "outputs": [
        {
          "output_type": "execute_result",
          "data": {
            "text/plain": [
              "array([ 0.08288731,  0.06950566, -0.00526407,  0.01832777,  0.05309262,\n",
              "        0.08910619, -0.06073258,  0.04295526,  0.10628165,  0.08464493,\n",
              "        0.11550552,  0.10085053,  0.05516442,  0.07434039,  0.06487703,\n",
              "        0.0728336 ,  0.05653872,  0.12423883,  0.05011396,  0.05737289,\n",
              "       -0.0484221 ,  0.04065697,  0.12476951,  0.03922997,  0.03730075,\n",
              "        0.08954437,  0.04052886,  0.02119377,  0.06182788,  0.06245574,\n",
              "        0.07163784,  0.05816943,  0.06618742,  0.05149638,  0.06614077,\n",
              "        0.07151848,  0.08979312, -0.0330553 ,  0.08689941,  0.03391738,\n",
              "        0.09246395,  0.08236162,  0.08839933,  0.09954246,  0.04117929,\n",
              "        0.04098719,  0.10566407,  0.09712057,  0.0737022 ,  0.11454842,\n",
              "        0.01183   ,  0.05988874,  0.0659856 ,  0.06921351,  0.12419483,\n",
              "       -0.0193081 ,  0.02065702,  0.06340436,  0.03977933, -0.056861  ,\n",
              "        0.00080033,  0.03031324,  0.0550747 ,  0.06846021,  0.03444677,\n",
              "        0.10582829,  0.07172458,  0.09262627,  0.09355138,  0.0432368 ,\n",
              "        0.09746235,  0.05448673,  0.07636079,  0.04524357,  0.04768622,\n",
              "        0.10948373,  0.0973808 ,  0.03529665,  0.03005491,  0.07791158,\n",
              "        0.10390415,  0.07625702,  0.08679954, -0.00736299,  0.02878421,\n",
              "       -0.00766526,  0.07193877,  0.08457709,  0.04268828,  0.00094304,\n",
              "        0.09255951,  0.06454247,  0.07497982,  0.01771696,  0.08515191,\n",
              "        0.08870441,  0.07047423,  0.06674172,  0.0417772 ,  0.00594797,\n",
              "        0.01161259,  0.06557478, -0.00973866,  0.03264039,  0.03993682,\n",
              "        0.0475438 ,  0.07475474,  0.05341588,  0.09252889,  0.06607601,\n",
              "        0.07702808,  0.08132067,  0.05276366,  0.04434917,  0.0769272 ,\n",
              "       -0.013834  ,  0.063008  ,  0.08666294,  0.08460862,  0.10939217,\n",
              "        0.06439779,  0.09469967,  0.07546216,  0.08215506,  0.03491579,\n",
              "        0.06602197,  0.0623264 ,  0.04623743,  0.06920675,  0.07150123,\n",
              "       -0.00277225,  0.04996718,  0.09121624,  0.06014049,  0.06035494,\n",
              "        0.05002926,  0.08659904,  0.04722909,  0.09652269,  0.06456519,\n",
              "        0.10027898,  0.04684556,  0.08724834,  0.0382034 ,  0.05253774,\n",
              "        0.06991436,  0.0516123 ,  0.04636919,  0.06583767,  0.04528324,\n",
              "        0.069972  ,  0.00874887,  0.08517435,  0.09001412, -0.00564488,\n",
              "        0.0470196 ,  0.00658445,  0.07547561,  0.07013109,  0.07294454,\n",
              "        0.07213964,  0.0635784 ,  0.0850998 ,  0.08067953, -0.00343859,\n",
              "        0.06003373,  0.02332559,  0.06887243,  0.078894  ,  0.11476691,\n",
              "        0.10539561,  0.08682707,  0.10576747,  0.08383655,  0.03001767,\n",
              "        0.05573375,  0.07802128,  0.07600029,  0.07991616,  0.08194376,\n",
              "        0.07532425,  0.05240081,  0.04884766,  0.04307371,  0.09944225,\n",
              "        0.06636571,  0.06491323,  0.05238298, -0.01436474,  0.08483897,\n",
              "        0.04625615, -0.0002783 ,  0.01547447,  0.02761258,  0.06435819,\n",
              "        0.07146917,  0.06091684,  0.01399143,  0.00270385,  0.09932802,\n",
              "        0.09551059,  0.09711024,  0.07341851,  0.08014679,  0.09904916,\n",
              "        0.05859719,  0.05254173,  0.07557262,  0.10767114,  0.02727346,\n",
              "        0.06252948,  0.11278772,  0.07005029,  0.02771847,  0.04262278,\n",
              "        0.10331915,  0.07470625,  0.0645908 ,  0.065032  ,  0.10577027,\n",
              "        0.0556327 ,  0.01084029,  0.0619455 ,  0.04931522,  0.07171798,\n",
              "        0.08855297,  0.08652313,  0.07649325,  0.0072145 ,  0.09108644,\n",
              "        0.11267355,  0.03897608,  0.10389901,  0.05708275,  0.06915716,\n",
              "        0.07910236,  0.08235739,  0.05059574,  0.09376906,  0.06961426,\n",
              "        0.01566205,  0.04222358,  0.00348074,  0.0710291 ,  0.08479857,\n",
              "        0.06364982,  0.00744441,  0.06496848,  0.04451884,  0.09749188])"
            ]
          },
          "metadata": {
            "tags": []
          },
          "execution_count": 118
        }
      ]
    },
    {
      "cell_type": "markdown",
      "metadata": {
        "id": "x7zeiHydRakt"
      },
      "source": [
        "**METHOD-3**"
      ]
    },
    {
      "cell_type": "code",
      "metadata": {
        "id": "2sdzRH-sRDxR"
      },
      "source": [
        "from sklearn.neighbors import LocalOutlierFactor\n",
        "lof=LocalOutlierFactor(novelty=True,metric='manhattan')"
      ],
      "execution_count": null,
      "outputs": []
    },
    {
      "cell_type": "code",
      "metadata": {
        "id": "oPPkZ_RPU6dv",
        "outputId": "f591475a-2dc3-4dee-abd0-a4c61bcbb116",
        "colab": {
          "base_uri": "https://localhost:8080/",
          "height": 67
        }
      },
      "source": [
        "lof.fit(x_train)"
      ],
      "execution_count": null,
      "outputs": [
        {
          "output_type": "execute_result",
          "data": {
            "text/plain": [
              "LocalOutlierFactor(algorithm='auto', contamination='auto', leaf_size=30,\n",
              "                   metric='manhattan', metric_params=None, n_jobs=None,\n",
              "                   n_neighbors=20, novelty=True, p=2)"
            ]
          },
          "metadata": {
            "tags": []
          },
          "execution_count": 128
        }
      ]
    },
    {
      "cell_type": "code",
      "metadata": {
        "id": "o-1tCDAXVhEA"
      },
      "source": [
        "pred=lof.predict(x_test)"
      ],
      "execution_count": null,
      "outputs": []
    },
    {
      "cell_type": "code",
      "metadata": {
        "id": "cNKMD_0aVlZg",
        "outputId": "a4582a85-bb92-4d1d-c31a-f74f34b5846f",
        "colab": {
          "base_uri": "https://localhost:8080/",
          "height": 282
        }
      },
      "source": [
        "plt.scatter(x_test[pred==1,0],x_test[pred==1,1],color='blue')\n",
        "plt.scatter(x_test[pred==-1,0],x_test[pred==-1,1],color='red')"
      ],
      "execution_count": null,
      "outputs": [
        {
          "output_type": "execute_result",
          "data": {
            "text/plain": [
              "<matplotlib.collections.PathCollection at 0x7f482c6401d0>"
            ]
          },
          "metadata": {
            "tags": []
          },
          "execution_count": 130
        },
        {
          "output_type": "display_data",
          "data": {
            "image/png": "[encoded data removed]",
            "text/plain": [
              "<Figure size 432x288 with 1 Axes>"
            ]
          },
          "metadata": {
            "tags": [],
            "needs_background": "light"
          }
        }
      ]
    },
    {
      "cell_type": "code",
      "metadata": {
        "id": "UmtAc5dZWKIc"
      },
      "source": [
        "from sklearn.svm import OneClassSVM\n",
        "svm=OneClassSVM(gamma='scale').fit(x_train)"
      ],
      "execution_count": null,
      "outputs": []
    },
    {
      "cell_type": "code",
      "metadata": {
        "id": "4xLXEeE0XAJI"
      },
      "source": [
        "pred=svm.predict(x_test)"
      ],
      "execution_count": null,
      "outputs": []
    },
    {
      "cell_type": "code",
      "metadata": {
        "id": "PyNVGrz0XDaz",
        "outputId": "0a0990fa-fae6-4d0b-9f4d-08bd364c024b",
        "colab": {
          "base_uri": "https://localhost:8080/",
          "height": 282
        }
      },
      "source": [
        "plt.scatter(x_test[pred==1,0],x_test[pred==1,1],color='blue')\n",
        "plt.scatter(x_test[pred==-1,0],x_test[pred==-1,1],color='red')"
      ],
      "execution_count": null,
      "outputs": [
        {
          "output_type": "execute_result",
          "data": {
            "text/plain": [
              "<matplotlib.collections.PathCollection at 0x7f482c597630>"
            ]
          },
          "metadata": {
            "tags": []
          },
          "execution_count": 133
        },
        {
          "output_type": "display_data",
          "data": {
            "image/png": "[encoded data removed]",
            "text/plain": [
              "<Figure size 432x288 with 1 Axes>"
            ]
          },
          "metadata": {
            "tags": [],
            "needs_background": "light"
          }
        }
      ]
    },
    {
      "cell_type": "code",
      "metadata": {
        "id": "cRg5vLSyXFIU"
      },
      "source": [
        "s=svm.score_samples(x1)"
      ],
      "execution_count": null,
      "outputs": []
    }
  ]
}